{
 "cells": [
  {
   "cell_type": "markdown",
   "metadata": {},
   "source": [
    "### 1. Generate a PhantomWiki Instance"
   ]
  },
  {
   "cell_type": "markdown",
   "metadata": {},
   "source": [
    "The first step is to generate a PhantomWiki instance by specifying the parameters of the universe you want to generate. This is done by first generating people connected by family relationships. We follow the family tree generator of Hohenecker & Lukasciewicz (2020). (TODO: cite)\n"
   ]
  },
  {
   "cell_type": "markdown",
   "metadata": {},
   "source": [
    "You can specify the following parameters (for more please refer to our source code) for family tree generation: \n",
    "\n",
    "num-samples: the number of family trees in a PhantomWiki universe\n",
    "max-tree-size: the maximum number of people in one family tree\n",
    "max-branching-factor: the maximum depth that a family tree may have"
   ]
  },
  {
   "cell_type": "code",
   "execution_count": null,
   "metadata": {},
   "outputs": [],
   "source": [
    "num_samples = 1\n",
    "max_tree_size = 25\n",
    "max_branching_factor = 5"
   ]
  },
  {
   "cell_type": "markdown",
   "metadata": {},
   "source": [
    "Specify the folder you want to store your PhantomWiki instance (including facts, QA pairs.)"
   ]
  },
  {
   "cell_type": "code",
   "execution_count": null,
   "metadata": {},
   "outputs": [],
   "source": [
    "output_dir = \"out\""
   ]
  },
  {
   "cell_type": "markdown",
   "metadata": {},
   "source": [
    "Now we can run the following command to generate a PhantomWiki universe. "
   ]
  },
  {
   "cell_type": "code",
   "execution_count": null,
   "metadata": {},
   "outputs": [],
   "source": [
    "!python -m phantom_wiki --num-samples $num_samples --max-tree-size $max_tree_size --max-branching-factor $max_branching_factor --output-dir $output_dir --debug --valid-only"
   ]
  },
  {
   "cell_type": "markdown",
   "metadata": {},
   "source": [
    "### 2. Visualization of the PhantomWiki universe"
   ]
  },
  {
   "cell_type": "markdown",
   "metadata": {},
   "source": [
    "Now we have generated a universe with PhantomWiki stored in the `$output_dir` folder. "
   ]
  },
  {
   "cell_type": "markdown",
   "metadata": {},
   "source": [
    "#### 2.1 Visualization of family trees"
   ]
  },
  {
   "cell_type": "markdown",
   "metadata": {},
   "source": [
    "We can first take a look at the family trees we generated. "
   ]
  },
  {
   "cell_type": "code",
   "execution_count": null,
   "metadata": {},
   "outputs": [],
   "source": [
    "# By default we are showing the first family tree generated, although more may be generated at the last step.\n",
    "family_tree_file = f\"{output_dir}/family_tree_1.png\"\n",
    "from IPython.display import Image\n",
    "\n",
    "Image(filename=family_tree_file)"
   ]
  },
  {
   "cell_type": "markdown",
   "metadata": {},
   "source": [
    "Every person in PhantomWiki has a first name and a last name. (TODO: traditional family structure? ) Colors indicate the gender of people in the PhantomWiki universe. Arrows indicate parental relationship. "
   ]
  },
  {
   "cell_type": "markdown",
   "metadata": {},
   "source": [
    "#### 2.2 Generated Articles"
   ]
  },
  {
   "cell_type": "markdown",
   "metadata": {},
   "source": [
    "The facts generated besides the family relationships include friend relationships, hobbies, occupations for the people in the universe. These facts are stored in `facts.pl` and used when converted into articles. \n",
    "\n",
    "(TODO: Do we want to show an example of how to query the prolog database?)\n",
    "\n",
    "Those facts are converted into articles for everyone using pre-defined templates. \n",
    "Articles generated are saved in `articles` folder. Each person has a `$name.txt` file associated listing the related facts of this person. (For family relationships only the parents and siblings information are relected in the articles.)\n",
    "\n",
    "Here we can take a look at an example of generated articles:\n"
   ]
  },
  {
   "cell_type": "code",
   "execution_count": null,
   "metadata": {},
   "outputs": [],
   "source": [
    "# input the name of the person you want to read the article about\n",
    "name = \"Aida Wang\"\n",
    "article_file = f\"{output_dir}/articles/{name}.txt\"\n",
    "with open(article_file, \"r\") as f:\n",
    "    article = f.read()\n",
    "print(article)"
   ]
  },
  {
   "cell_type": "markdown",
   "metadata": {},
   "source": [
    "#### 2.3 Generated QA pairs"
   ]
  },
  {
   "cell_type": "markdown",
   "metadata": {},
   "source": [
    "Each PhantomWiki instance also contains Question-Answer pairs that are consistent with the generated facts. \n",
    "\n",
    "The difficulty of the generated questions is tunable via the `--depth` when running `python -m phantom_wiki` command above. by default, using `--depth 10` gives us `8` types of question templates. The number of questions generated from each type of template can be specified via `--num-questions-per-type` (default is 10). These questions are stored in `questions` folder arraged by type. "
   ]
  },
  {
   "cell_type": "markdown",
   "metadata": {},
   "source": [
    "Let's now look at some of the questions: "
   ]
  },
  {
   "cell_type": "code",
   "execution_count": null,
   "metadata": {},
   "outputs": [],
   "source": [
    "# specify the type of question you want to look at\n",
    "type = 0\n",
    "question_file = f\"{output_dir}/questions/type{type}.json\"\n",
    "import json\n",
    "\n",
    "with open(question_file, \"r\") as f:\n",
    "    questions = json.load(f)"
   ]
  },
  {
   "cell_type": "markdown",
   "metadata": {},
   "source": [
    "we can look at the result of a sampled question and its answer along with the original question template:"
   ]
  },
  {
   "cell_type": "code",
   "execution_count": null,
   "metadata": {},
   "outputs": [],
   "source": [
    "question = questions[0]\n",
    "print(\"Question: \", question[\"question\"])\n",
    "print(\"Answer: \", question[\"answer\"])\n",
    "print(\"Template: \", question[\"template\"])\n",
    "# print(\"Prolog:\", question['prolog'])"
   ]
  },
  {
   "cell_type": "markdown",
   "metadata": {},
   "source": [
    "### 3. Evaluation on a PhantomWiki instance"
   ]
  },
  {
   "cell_type": "markdown",
   "metadata": {},
   "source": [
    "#### 3.1 Run evaluation with specific model and method"
   ]
  },
  {
   "cell_type": "markdown",
   "metadata": {},
   "source": [
    "Now we can finally run evaluation on the generated PhantomWiki dataset. As an example, we test the `zeroshot` method using a llama model `meta-llama/llama-3.2-1b-instruct`"
   ]
  },
  {
   "cell_type": "code",
   "execution_count": null,
   "metadata": {},
   "outputs": [],
   "source": [
    "method = \"zeroshot\"\n",
    "model = \"meta-llama/llama-3.2-1b-instruct\"\n",
    "preds_dir = f\"{output_dir}/preds\""
   ]
  },
  {
   "cell_type": "code",
   "execution_count": null,
   "metadata": {},
   "outputs": [],
   "source": [
    "# TODO: either add command to upload to huggingface or add code to run locally\n",
    "# TODO: how to unify with the eval bash script\n",
    "!python -m phantom_eval --method $method -od $preds_dir -m $model"
   ]
  },
  {
   "cell_type": "markdown",
   "metadata": {},
   "source": [
    "#### 3.2 Visulize the results"
   ]
  },
  {
   "cell_type": "markdown",
   "metadata": {},
   "source": []
  }
 ],
 "metadata": {
  "kernelspec": {
   "display_name": "phantom",
   "language": "python",
   "name": "python3"
  },
  "language_info": {
   "codemirror_mode": {
    "name": "ipython",
    "version": 3
   },
   "file_extension": ".py",
   "mimetype": "text/x-python",
   "name": "python",
   "nbconvert_exporter": "python",
   "pygments_lexer": "ipython3",
   "version": "3.12.0"
  }
 },
 "nbformat": 4,
 "nbformat_minor": 2
}
