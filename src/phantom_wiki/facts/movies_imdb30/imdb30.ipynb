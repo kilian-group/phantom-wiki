{
 "cells": [
  {
   "cell_type": "code",
   "execution_count": 14,
   "metadata": {},
   "outputs": [
    {
     "name": "stdout",
     "output_type": "stream",
     "text": [
      "0 0111161 The Shawshank Redemption\n",
      "1 0068646 The Godfather\n",
      "2 0468569 The Dark Knight\n",
      "3 0071562 The Godfather Part II\n",
      "4 0050083 12 Angry Men\n",
      "5 0167260 The Lord of the Rings: The Return of the King\n",
      "6 0108052 Schindler's List\n",
      "7 0110912 Pulp Fiction\n",
      "8 0120737 The Lord of the Rings: The Fellowship of the Ring\n",
      "9 0060196 The Good, the Bad and the Ugly\n",
      "10 0109830 Forrest Gump\n",
      "11 0167261 The Lord of the Rings: The Two Towers\n",
      "12 0137523 Fight Club\n",
      "13 1375666 Inception\n",
      "14 0080684 Star Wars: Episode V - The Empire Strikes Back\n",
      "15 0133093 The Matrix\n",
      "16 0099685 Goodfellas\n",
      "17 0073486 One Flew Over the Cuckoo's Nest\n",
      "18 0816692 Interstellar\n",
      "19 0114369 Se7en\n",
      "20 0038650 It's a Wonderful Life\n",
      "21 0047478 Seven Samurai\n",
      "22 0102926 The Silence of the Lambs\n",
      "23 0120815 Saving Private Ryan\n",
      "24 0317248 City of God\n"
     ]
    }
   ],
   "source": [
    "from imdb import Cinemagoer\n",
    "ia = Cinemagoer('http')\n",
    "movies = ia.get_top250_movies()\n",
    "for rank, movie in enumerate(movies):\n",
    "    print(rank, movie.movieID, movie['title'])"
   ]
  },
  {
   "cell_type": "code",
   "execution_count": 10,
   "metadata": {},
   "outputs": [
    {
     "name": "stderr",
     "output_type": "stream",
     "text": [
      "2024-12-17 21:42:48,560 CRITICAL [imdbpy] /opt/anaconda3/envs/dataset/lib/python3.10/site-packages/imdb/_exceptions.py:32: IMDbParserError exception raised; args: ('invalid movieID \"tt0111161\": invalid literal for int() with base 10: \\'tt0111161\\'',); kwds: {}\n",
      "Traceback (most recent call last):\n",
      "  File \"/opt/anaconda3/envs/dataset/lib/python3.10/site-packages/imdb/parser/http/__init__.py\", line 313, in _normalize_movieID\n",
      "    return '%07d' % int(movieID)\n",
      "ValueError: invalid literal for int() with base 10: 'tt0111161'\n"
     ]
    },
    {
     "ename": "IMDbParserError",
     "evalue": "invalid movieID \"tt0111161\": invalid literal for int() with base 10: 'tt0111161'",
     "output_type": "error",
     "traceback": [
      "\u001b[0;31m---------------------------------------------------------------------------\u001b[0m",
      "\u001b[0;31mValueError\u001b[0m                                Traceback (most recent call last)",
      "File \u001b[0;32m/opt/anaconda3/envs/dataset/lib/python3.10/site-packages/imdb/parser/http/__init__.py:313\u001b[0m, in \u001b[0;36mIMDbHTTPAccessSystem._normalize_movieID\u001b[0;34m(self, movieID)\u001b[0m\n\u001b[1;32m    312\u001b[0m \u001b[38;5;28;01mtry\u001b[39;00m:\n\u001b[0;32m--> 313\u001b[0m     \u001b[38;5;28;01mreturn\u001b[39;00m \u001b[38;5;124m'\u001b[39m\u001b[38;5;132;01m%07d\u001b[39;00m\u001b[38;5;124m'\u001b[39m \u001b[38;5;241m%\u001b[39m \u001b[38;5;28;43mint\u001b[39;49m\u001b[43m(\u001b[49m\u001b[43mmovieID\u001b[49m\u001b[43m)\u001b[49m\n\u001b[1;32m    314\u001b[0m \u001b[38;5;28;01mexcept\u001b[39;00m \u001b[38;5;167;01mValueError\u001b[39;00m \u001b[38;5;28;01mas\u001b[39;00m e:\n",
      "\u001b[0;31mValueError\u001b[0m: invalid literal for int() with base 10: 'tt0111161'",
      "\nDuring handling of the above exception, another exception occurred:\n",
      "\u001b[0;31mIMDbParserError\u001b[0m                           Traceback (most recent call last)",
      "Cell \u001b[0;32mIn[10], line 1\u001b[0m\n\u001b[0;32m----> 1\u001b[0m shawshank \u001b[38;5;241m=\u001b[39m \u001b[43mia\u001b[49m\u001b[38;5;241;43m.\u001b[39;49m\u001b[43mget_movie\u001b[49m\u001b[43m(\u001b[49m\u001b[38;5;124;43m'\u001b[39;49m\u001b[38;5;124;43mtt0111161\u001b[39;49m\u001b[38;5;124;43m'\u001b[39;49m\u001b[43m)\u001b[49m\n",
      "File \u001b[0;32m/opt/anaconda3/envs/dataset/lib/python3.10/site-packages/imdb/__init__.py:423\u001b[0m, in \u001b[0;36mIMDbBase.get_movie\u001b[0;34m(self, movieID, info, modFunct)\u001b[0m\n\u001b[1;32m    412\u001b[0m \u001b[38;5;28;01mdef\u001b[39;00m \u001b[38;5;21mget_movie\u001b[39m(\u001b[38;5;28mself\u001b[39m, movieID, info\u001b[38;5;241m=\u001b[39mMovie\u001b[38;5;241m.\u001b[39mMovie\u001b[38;5;241m.\u001b[39mdefault_info, modFunct\u001b[38;5;241m=\u001b[39m\u001b[38;5;28;01mNone\u001b[39;00m):\n\u001b[1;32m    413\u001b[0m \u001b[38;5;250m    \u001b[39m\u001b[38;5;124;03m\"\"\"Return a Movie object for the given movieID.\u001b[39;00m\n\u001b[1;32m    414\u001b[0m \n\u001b[1;32m    415\u001b[0m \u001b[38;5;124;03m    The movieID is something used to univocally identify a movie;\u001b[39;00m\n\u001b[0;32m   (...)\u001b[0m\n\u001b[1;32m    421\u001b[0m \u001b[38;5;124;03m    If specified, modFunct will be the function used by the Movie\u001b[39;00m\n\u001b[1;32m    422\u001b[0m \u001b[38;5;124;03m    object when accessing its text fields (like 'plot').\"\"\"\u001b[39;00m\n\u001b[0;32m--> 423\u001b[0m     movieID \u001b[38;5;241m=\u001b[39m \u001b[38;5;28;43mself\u001b[39;49m\u001b[38;5;241;43m.\u001b[39;49m\u001b[43m_normalize_movieID\u001b[49m\u001b[43m(\u001b[49m\u001b[43mmovieID\u001b[49m\u001b[43m)\u001b[49m\n\u001b[1;32m    424\u001b[0m     movieID \u001b[38;5;241m=\u001b[39m \u001b[38;5;28mself\u001b[39m\u001b[38;5;241m.\u001b[39m_get_real_movieID(movieID)\n\u001b[1;32m    425\u001b[0m     movie \u001b[38;5;241m=\u001b[39m Movie\u001b[38;5;241m.\u001b[39mMovie(movieID\u001b[38;5;241m=\u001b[39mmovieID, accessSystem\u001b[38;5;241m=\u001b[39m\u001b[38;5;28mself\u001b[39m\u001b[38;5;241m.\u001b[39maccessSystem)\n",
      "File \u001b[0;32m/opt/anaconda3/envs/dataset/lib/python3.10/site-packages/imdb/parser/http/__init__.py:315\u001b[0m, in \u001b[0;36mIMDbHTTPAccessSystem._normalize_movieID\u001b[0;34m(self, movieID)\u001b[0m\n\u001b[1;32m    313\u001b[0m     \u001b[38;5;28;01mreturn\u001b[39;00m \u001b[38;5;124m'\u001b[39m\u001b[38;5;132;01m%07d\u001b[39;00m\u001b[38;5;124m'\u001b[39m \u001b[38;5;241m%\u001b[39m \u001b[38;5;28mint\u001b[39m(movieID)\n\u001b[1;32m    314\u001b[0m \u001b[38;5;28;01mexcept\u001b[39;00m \u001b[38;5;167;01mValueError\u001b[39;00m \u001b[38;5;28;01mas\u001b[39;00m e:\n\u001b[0;32m--> 315\u001b[0m     \u001b[38;5;28;01mraise\u001b[39;00m IMDbParserError(\u001b[38;5;124m'\u001b[39m\u001b[38;5;124minvalid movieID \u001b[39m\u001b[38;5;124m\"\u001b[39m\u001b[38;5;132;01m%s\u001b[39;00m\u001b[38;5;124m\"\u001b[39m\u001b[38;5;124m: \u001b[39m\u001b[38;5;132;01m%s\u001b[39;00m\u001b[38;5;124m'\u001b[39m \u001b[38;5;241m%\u001b[39m (movieID, e))\n",
      "\u001b[0;31mIMDbParserError\u001b[0m: invalid movieID \"tt0111161\": invalid literal for int() with base 10: 'tt0111161'"
     ]
    }
   ],
   "source": [
    "shawshank = ia.get_movie('tt0111161')"
   ]
  },
  {
   "cell_type": "code",
   "execution_count": null,
   "metadata": {},
   "outputs": [],
   "source": [
    "shawshank.keys()"
   ]
  }
 ],
 "metadata": {
  "kernelspec": {
   "display_name": "dataset",
   "language": "python",
   "name": "python3"
  },
  "language_info": {
   "codemirror_mode": {
    "name": "ipython",
    "version": 3
   },
   "file_extension": ".py",
   "mimetype": "text/x-python",
   "name": "python",
   "nbconvert_exporter": "python",
   "pygments_lexer": "ipython3",
   "version": "3.10.15"
  }
 },
 "nbformat": 4,
 "nbformat_minor": 2
}
